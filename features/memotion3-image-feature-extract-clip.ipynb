{
 "cells": [
  {
   "cell_type": "code",
   "execution_count": 1,
   "id": "51982cbd-e407-4d8a-a187-bb02e8a35622",
   "metadata": {
    "execution": {
     "iopub.execute_input": "2022-11-18T17:41:36.355073Z",
     "iopub.status.busy": "2022-11-18T17:41:36.354218Z",
     "iopub.status.idle": "2022-11-18T17:41:36.867623Z",
     "shell.execute_reply": "2022-11-18T17:41:36.866610Z",
     "shell.execute_reply.started": "2022-11-18T17:41:36.354938Z"
    },
    "tags": []
   },
   "outputs": [],
   "source": [
    "from transformers import AutoProcessor, AutoModel\n",
    "import pandas as pd\n",
    "from PIL import Image\n",
    "import os"
   ]
  },
  {
   "cell_type": "code",
   "execution_count": 14,
   "id": "fad2ddbf-8922-46f8-8bb1-131e9c1960ae",
   "metadata": {
    "execution": {
     "iopub.execute_input": "2022-11-18T18:22:49.009966Z",
     "iopub.status.busy": "2022-11-18T18:22:49.009397Z",
     "iopub.status.idle": "2022-11-18T18:22:49.020745Z",
     "shell.execute_reply": "2022-11-18T18:22:49.019374Z",
     "shell.execute_reply.started": "2022-11-18T18:22:49.009916Z"
    }
   },
   "outputs": [],
   "source": []
  },
  {
   "cell_type": "code",
   "execution_count": 2,
   "id": "d7c49367-d898-4c81-8dae-110cdb590178",
   "metadata": {
    "execution": {
     "iopub.execute_input": "2022-11-18T17:41:38.396532Z",
     "iopub.status.busy": "2022-11-18T17:41:38.395507Z",
     "iopub.status.idle": "2022-11-18T18:13:53.126246Z",
     "shell.execute_reply": "2022-11-18T18:13:53.125269Z",
     "shell.execute_reply.started": "2022-11-18T17:41:38.396478Z"
    },
    "tags": []
   },
   "outputs": [
    {
     "data": {
      "application/vnd.jupyter.widget-view+json": {
       "model_id": "694acc59ea0f4d83af2e98c937d743c1",
       "version_major": 2,
       "version_minor": 0
      },
      "text/plain": [
       "Downloading:   0%|          | 0.00/316 [00:00<?, ?B/s]"
      ]
     },
     "metadata": {},
     "output_type": "display_data"
    },
    {
     "data": {
      "application/vnd.jupyter.widget-view+json": {
       "model_id": "2300ca9d5afd403b9c8dbdd5819e360f",
       "version_major": 2,
       "version_minor": 0
      },
      "text/plain": [
       "Downloading:   0%|          | 0.00/568 [00:00<?, ?B/s]"
      ]
     },
     "metadata": {},
     "output_type": "display_data"
    },
    {
     "data": {
      "application/vnd.jupyter.widget-view+json": {
       "model_id": "deb26ce026fd4006b3b5dcf18f257f99",
       "version_major": 2,
       "version_minor": 0
      },
      "text/plain": [
       "Downloading:   0%|          | 0.00/4.36k [00:00<?, ?B/s]"
      ]
     },
     "metadata": {},
     "output_type": "display_data"
    },
    {
     "data": {
      "application/vnd.jupyter.widget-view+json": {
       "model_id": "bbc529b56d564367b539d3936044f628",
       "version_major": 2,
       "version_minor": 0
      },
      "text/plain": [
       "Downloading:   0%|          | 0.00/862k [00:00<?, ?B/s]"
      ]
     },
     "metadata": {},
     "output_type": "display_data"
    },
    {
     "data": {
      "application/vnd.jupyter.widget-view+json": {
       "model_id": "f4899fe05b114f46b2fec61bd975127b",
       "version_major": 2,
       "version_minor": 0
      },
      "text/plain": [
       "Downloading:   0%|          | 0.00/2.22M [00:00<?, ?B/s]"
      ]
     },
     "metadata": {},
     "output_type": "display_data"
    },
    {
     "data": {
      "application/vnd.jupyter.widget-view+json": {
       "model_id": "3b316d756e9c4298993131144ca06bb3",
       "version_major": 2,
       "version_minor": 0
      },
      "text/plain": [
       "Downloading:   0%|          | 0.00/389 [00:00<?, ?B/s]"
      ]
     },
     "metadata": {},
     "output_type": "display_data"
    },
    {
     "data": {
      "application/vnd.jupyter.widget-view+json": {
       "model_id": "f78a45fc21e44327994c6e36e0f3426e",
       "version_major": 2,
       "version_minor": 0
      },
      "text/plain": [
       "Downloading:   0%|          | 0.00/605M [00:00<?, ?B/s]"
      ]
     },
     "metadata": {},
     "output_type": "display_data"
    }
   ],
   "source": [
    "processor = AutoProcessor.from_pretrained(\"laion/CLIP-ViT-B-32-laion2B-s34B-b79K\")\n",
    "\n",
    "model = AutoModel.from_pretrained(\"laion/CLIP-ViT-B-32-laion2B-s34B-b79K\")"
   ]
  },
  {
   "cell_type": "code",
   "execution_count": 34,
   "id": "bc0600f0-4fdb-429c-b0e1-f998cb30a520",
   "metadata": {
    "execution": {
     "iopub.execute_input": "2022-11-18T18:28:43.690997Z",
     "iopub.status.busy": "2022-11-18T18:28:43.690432Z",
     "iopub.status.idle": "2022-11-18T19:02:49.412788Z",
     "shell.execute_reply": "2022-11-18T19:02:49.411257Z",
     "shell.execute_reply.started": "2022-11-18T18:28:43.690947Z"
    },
    "tags": []
   },
   "outputs": [],
   "source": [
    "image_embeds_all = []\n",
    "for i in range(7000):\n",
    "    image = Image.open(os.path.join('trainImages',str(i)+'.jpg'))\n",
    "    image_inputs = processor(images=image, return_tensors='pt')\n",
    "    image_embeds = model.get_image_features(**image_inputs)\n",
    "    image_embeds /= image_embeds.norm(p=2, dim=-1, keepdim=True)\n",
    "    image_embeds = image_embeds.detach().numpy()[0]\n",
    "    image_embeds_all.append(image_embeds)"
   ]
  },
  {
   "cell_type": "code",
   "execution_count": 35,
   "id": "145adb1f-6b14-4c2b-beb0-3d5f3cd5bcb4",
   "metadata": {
    "execution": {
     "iopub.execute_input": "2022-11-18T19:02:49.415636Z",
     "iopub.status.busy": "2022-11-18T19:02:49.415317Z",
     "iopub.status.idle": "2022-11-18T19:02:53.881148Z",
     "shell.execute_reply": "2022-11-18T19:02:53.880388Z",
     "shell.execute_reply.started": "2022-11-18T19:02:49.415605Z"
    },
    "tags": []
   },
   "outputs": [],
   "source": [
    "pd.DataFrame(image_embeds_all).to_csv('train_image_feature.csv',index=None)"
   ]
  },
  {
   "cell_type": "code",
   "execution_count": 36,
   "id": "b43a11bd-a016-4cee-97cc-1863c0969ab8",
   "metadata": {
    "execution": {
     "iopub.execute_input": "2022-11-18T19:02:53.882373Z",
     "iopub.status.busy": "2022-11-18T19:02:53.882151Z",
     "iopub.status.idle": "2022-11-18T19:10:07.049698Z",
     "shell.execute_reply": "2022-11-18T19:10:07.048442Z",
     "shell.execute_reply.started": "2022-11-18T19:02:53.882349Z"
    },
    "tags": []
   },
   "outputs": [],
   "source": [
    "image_embeds_all = []\n",
    "for i in range(1500):\n",
    "    image = Image.open(os.path.join('valImages',str(i)+'.jpg'))\n",
    "    image_inputs = processor(images=image, return_tensors='pt')\n",
    "    image_embeds = model.get_image_features(**image_inputs)\n",
    "    image_embeds /= image_embeds.norm(p=2, dim=-1, keepdim=True)\n",
    "    image_embeds = image_embeds.detach().numpy()[0]\n",
    "    image_embeds_all.append(image_embeds)\n",
    "    \n",
    "pd.DataFrame(image_embeds_all).to_csv('val_image_feature.csv',index=None)"
   ]
  },
  {
   "cell_type": "code",
   "execution_count": 37,
   "id": "93ad71db-bf94-4d75-bb8e-6f903ac41db5",
   "metadata": {
    "execution": {
     "iopub.execute_input": "2022-11-18T19:10:07.052357Z",
     "iopub.status.busy": "2022-11-18T19:10:07.052102Z",
     "iopub.status.idle": "2022-11-18T19:17:14.820905Z",
     "shell.execute_reply": "2022-11-18T19:17:14.819679Z",
     "shell.execute_reply.started": "2022-11-18T19:10:07.052333Z"
    },
    "tags": []
   },
   "outputs": [],
   "source": [
    "image_embeds_all = []\n",
    "for i in range(1500):\n",
    "    image = Image.open(os.path.join('testImages',str(i)+'.jpg'))\n",
    "    image_inputs = processor(images=image, return_tensors='pt')\n",
    "    image_embeds = model.get_image_features(**image_inputs)\n",
    "    image_embeds /= image_embeds.norm(p=2, dim=-1, keepdim=True)\n",
    "    image_embeds = image_embeds.detach().numpy()[0]\n",
    "    image_embeds_all.append(image_embeds)\n",
    "    \n",
    "pd.DataFrame(image_embeds_all).to_csv('test_image_feature.csv',index=None)"
   ]
  },
  {
   "cell_type": "code",
   "execution_count": null,
   "id": "dfe0307a-9639-4721-84e6-483fb4b081e9",
   "metadata": {},
   "outputs": [],
   "source": []
  }
 ],
 "metadata": {
  "kernelspec": {
   "display_name": "Python 3 (ipykernel)",
   "language": "python",
   "name": "python3"
  },
  "language_info": {
   "codemirror_mode": {
    "name": "ipython",
    "version": 3
   },
   "file_extension": ".py",
   "mimetype": "text/x-python",
   "name": "python",
   "nbconvert_exporter": "python",
   "pygments_lexer": "ipython3",
   "version": "3.8.13"
  }
 },
 "nbformat": 4,
 "nbformat_minor": 5
}
