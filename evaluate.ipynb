{
 "cells": [
  {
   "cell_type": "code",
   "execution_count": 1,
   "id": "082cce95-546a-4920-8179-f4724ce22605",
   "metadata": {
    "execution": {
     "iopub.execute_input": "2022-12-22T01:45:58.023348Z",
     "iopub.status.busy": "2022-12-22T01:45:58.022989Z",
     "iopub.status.idle": "2022-12-22T01:45:58.272518Z",
     "shell.execute_reply": "2022-12-22T01:45:58.272094Z",
     "shell.execute_reply.started": "2022-12-22T01:45:58.023294Z"
    },
    "tags": []
   },
   "outputs": [],
   "source": [
    "import pandas as pd\n",
    "\n",
    "df_truth = pd.read_csv('true-labels.txt',header=None)\n",
    "df_pre = pd.read_csv('answer_team_NUAA-QMUL-AIIT.txt',header=None)"
   ]
  },
  {
   "cell_type": "code",
   "execution_count": 2,
   "id": "4810d7b6-9b19-4cae-ae0e-2de3ea08e8ed",
   "metadata": {
    "execution": {
     "iopub.execute_input": "2022-12-22T01:45:58.273484Z",
     "iopub.status.busy": "2022-12-22T01:45:58.273328Z",
     "iopub.status.idle": "2022-12-22T01:45:58.280882Z",
     "shell.execute_reply": "2022-12-22T01:45:58.280424Z",
     "shell.execute_reply.started": "2022-12-22T01:45:58.273469Z"
    },
    "tags": []
   },
   "outputs": [],
   "source": [
    "def get_labels(df):\n",
    "    A,B1,B2,B3,B4,C1,C2,C3,C4 = [],[],[],[],[],[],[],[],[]\n",
    "    for labels in df[0]:\n",
    "        a,b,c = labels.split('_')\n",
    "        b1 = b[0]\n",
    "        b2 = b[1]\n",
    "        b3 = b[2]\n",
    "        b4 = b[3]\n",
    "        c1 = c[0]\n",
    "        c2 = c[1]\n",
    "        c3 = c[2]\n",
    "        c4 = c[3]\n",
    "    \n",
    "        A.append(int(a))\n",
    "        B1.append(int(b1))\n",
    "        B2.append(int(b2))\n",
    "        B3.append(int(b3))\n",
    "        B4.append(int(b4))\n",
    "        C1.append(int(c1))\n",
    "        C2.append(int(c2))\n",
    "        C3.append(int(c3))\n",
    "        C4.append(int(c4))\n",
    "        \n",
    "    return A,B1,B2,B3,B4,C1,C2,C3,C4"
   ]
  },
  {
   "cell_type": "code",
   "execution_count": 3,
   "id": "f293fdcd-6878-49c4-9755-21d924078847",
   "metadata": {
    "execution": {
     "iopub.execute_input": "2022-12-22T01:45:58.402750Z",
     "iopub.status.busy": "2022-12-22T01:45:58.402256Z",
     "iopub.status.idle": "2022-12-22T01:45:58.409720Z",
     "shell.execute_reply": "2022-12-22T01:45:58.409258Z",
     "shell.execute_reply.started": "2022-12-22T01:45:58.402733Z"
    },
    "tags": []
   },
   "outputs": [],
   "source": [
    "A_pre,B1_pre,B2_pre,B3_pre,B4_pre,C1_pre,C2_pre,C3_pre,C4_pre = get_labels(df_pre)\n",
    "A_truth,B1_truth,B2_truth,B3_truth,B4_truth,C1_truth,C2_truth,C3_truth,C4_truth = get_labels(df_truth)"
   ]
  },
  {
   "cell_type": "code",
   "execution_count": 4,
   "id": "b0962aee-a9af-447e-916d-0d0f5a60a19e",
   "metadata": {
    "execution": {
     "iopub.execute_input": "2022-12-22T01:45:58.815785Z",
     "iopub.status.busy": "2022-12-22T01:45:58.815467Z",
     "iopub.status.idle": "2022-12-22T01:45:59.099284Z",
     "shell.execute_reply": "2022-12-22T01:45:59.098725Z",
     "shell.execute_reply.started": "2022-12-22T01:45:58.815765Z"
    },
    "tags": []
   },
   "outputs": [],
   "source": [
    "from sklearn.metrics import f1_score"
   ]
  },
  {
   "cell_type": "code",
   "execution_count": 5,
   "id": "2c94c5d7-60ab-4590-b279-99f92372e971",
   "metadata": {
    "execution": {
     "iopub.execute_input": "2022-12-22T01:45:59.174733Z",
     "iopub.status.busy": "2022-12-22T01:45:59.174392Z",
     "iopub.status.idle": "2022-12-22T01:45:59.185411Z",
     "shell.execute_reply": "2022-12-22T01:45:59.184971Z",
     "shell.execute_reply.started": "2022-12-22T01:45:59.174714Z"
    },
    "tags": []
   },
   "outputs": [
    {
     "data": {
      "text/plain": [
       "0.3441145032251987"
      ]
     },
     "execution_count": 5,
     "metadata": {},
     "output_type": "execute_result"
    }
   ],
   "source": [
    "f1_score(A_truth, A_pre, average='weighted')"
   ]
  },
  {
   "cell_type": "code",
   "execution_count": 6,
   "id": "460cea2d-13fd-476f-a986-7f1efdc217ed",
   "metadata": {
    "execution": {
     "iopub.execute_input": "2022-12-22T01:45:59.535224Z",
     "iopub.status.busy": "2022-12-22T01:45:59.534914Z",
     "iopub.status.idle": "2022-12-22T01:45:59.540255Z",
     "shell.execute_reply": "2022-12-22T01:45:59.539864Z",
     "shell.execute_reply.started": "2022-12-22T01:45:59.535204Z"
    },
    "tags": []
   },
   "outputs": [
    {
     "data": {
      "text/plain": [
       "0.87060852419928"
      ]
     },
     "execution_count": 6,
     "metadata": {},
     "output_type": "execute_result"
    }
   ],
   "source": [
    "f1_score(B1_truth, B1_pre, average='weighted')"
   ]
  },
  {
   "cell_type": "code",
   "execution_count": 7,
   "id": "c24bcd77-2576-4f93-9498-7d063fb16db6",
   "metadata": {
    "execution": {
     "iopub.execute_input": "2022-12-22T01:45:59.722236Z",
     "iopub.status.busy": "2022-12-22T01:45:59.721696Z",
     "iopub.status.idle": "2022-12-22T01:45:59.727280Z",
     "shell.execute_reply": "2022-12-22T01:45:59.726840Z",
     "shell.execute_reply.started": "2022-12-22T01:45:59.722220Z"
    },
    "tags": []
   },
   "outputs": [
    {
     "data": {
      "text/plain": [
       "0.7797370323841556"
      ]
     },
     "execution_count": 7,
     "metadata": {},
     "output_type": "execute_result"
    }
   ],
   "source": [
    "f1_score(B2_truth, B2_pre, average='weighted')"
   ]
  },
  {
   "cell_type": "code",
   "execution_count": 8,
   "id": "192854d9-9a84-4bf2-a94c-ae8af1b4cfb9",
   "metadata": {
    "execution": {
     "iopub.execute_input": "2022-12-22T01:45:59.886826Z",
     "iopub.status.busy": "2022-12-22T01:45:59.886453Z",
     "iopub.status.idle": "2022-12-22T01:45:59.892062Z",
     "shell.execute_reply": "2022-12-22T01:45:59.891666Z",
     "shell.execute_reply.started": "2022-12-22T01:45:59.886808Z"
    },
    "tags": []
   },
   "outputs": [
    {
     "data": {
      "text/plain": [
       "0.507216952213218"
      ]
     },
     "execution_count": 8,
     "metadata": {},
     "output_type": "execute_result"
    }
   ],
   "source": [
    "f1_score(B3_truth, B3_pre, average='weighted')"
   ]
  },
  {
   "cell_type": "code",
   "execution_count": 9,
   "id": "a9955271-8df4-451e-a316-52f1603d6792",
   "metadata": {
    "execution": {
     "iopub.execute_input": "2022-12-22T01:46:00.094666Z",
     "iopub.status.busy": "2022-12-22T01:46:00.094430Z",
     "iopub.status.idle": "2022-12-22T01:46:00.099481Z",
     "shell.execute_reply": "2022-12-22T01:46:00.099094Z",
     "shell.execute_reply.started": "2022-12-22T01:46:00.094650Z"
    },
    "tags": []
   },
   "outputs": [
    {
     "data": {
      "text/plain": [
       "0.9443550724637682"
      ]
     },
     "execution_count": 9,
     "metadata": {},
     "output_type": "execute_result"
    }
   ],
   "source": [
    "f1_score(B4_truth, B4_pre, average='weighted')"
   ]
  },
  {
   "cell_type": "code",
   "execution_count": 10,
   "id": "f29f2acd-8de2-4f54-9d94-39ce5f390d00",
   "metadata": {
    "execution": {
     "iopub.execute_input": "2022-12-22T01:46:00.626289Z",
     "iopub.status.busy": "2022-12-22T01:46:00.625901Z",
     "iopub.status.idle": "2022-12-22T01:46:00.631606Z",
     "shell.execute_reply": "2022-12-22T01:46:00.631159Z",
     "shell.execute_reply.started": "2022-12-22T01:46:00.626270Z"
    },
    "tags": []
   },
   "outputs": [
    {
     "data": {
      "text/plain": [
       "0.4634308599896178"
      ]
     },
     "execution_count": 10,
     "metadata": {},
     "output_type": "execute_result"
    }
   ],
   "source": [
    "f1_score(C1_truth, C1_pre, average='weighted')"
   ]
  },
  {
   "cell_type": "code",
   "execution_count": 11,
   "id": "7476e2b6-fb21-4100-8834-6450e8a712b0",
   "metadata": {
    "execution": {
     "iopub.execute_input": "2022-12-22T01:46:01.022840Z",
     "iopub.status.busy": "2022-12-22T01:46:01.022538Z",
     "iopub.status.idle": "2022-12-22T01:46:01.027997Z",
     "shell.execute_reply": "2022-12-22T01:46:01.027556Z",
     "shell.execute_reply.started": "2022-12-22T01:46:01.022821Z"
    },
    "tags": []
   },
   "outputs": [
    {
     "data": {
      "text/plain": [
       "0.44293992202975685"
      ]
     },
     "execution_count": 11,
     "metadata": {},
     "output_type": "execute_result"
    }
   ],
   "source": [
    "f1_score(C2_truth, C2_pre, average='weighted')"
   ]
  },
  {
   "cell_type": "code",
   "execution_count": 12,
   "id": "4ff2b846-fe19-469a-9d6b-b87c8b84bce9",
   "metadata": {
    "execution": {
     "iopub.execute_input": "2022-12-22T01:46:01.618103Z",
     "iopub.status.busy": "2022-12-22T01:46:01.617668Z",
     "iopub.status.idle": "2022-12-22T01:46:01.623192Z",
     "shell.execute_reply": "2022-12-22T01:46:01.622749Z",
     "shell.execute_reply.started": "2022-12-22T01:46:01.618086Z"
    },
    "tags": []
   },
   "outputs": [
    {
     "data": {
      "text/plain": [
       "0.43171985490125947"
      ]
     },
     "execution_count": 12,
     "metadata": {},
     "output_type": "execute_result"
    }
   ],
   "source": [
    "f1_score(C3_truth, C3_pre, average='weighted')"
   ]
  },
  {
   "cell_type": "code",
   "execution_count": 13,
   "id": "fff77e28-4170-42cc-96d2-692925b58cce",
   "metadata": {
    "execution": {
     "iopub.execute_input": "2022-12-22T01:46:03.747234Z",
     "iopub.status.busy": "2022-12-22T01:46:03.746910Z",
     "iopub.status.idle": "2022-12-22T01:46:03.752223Z",
     "shell.execute_reply": "2022-12-22T01:46:03.751835Z",
     "shell.execute_reply.started": "2022-12-22T01:46:03.747216Z"
    },
    "tags": []
   },
   "outputs": [
    {
     "data": {
      "text/plain": [
       "0.9443550724637682"
      ]
     },
     "execution_count": 13,
     "metadata": {},
     "output_type": "execute_result"
    }
   ],
   "source": [
    "f1_score(C4_truth, C4_pre, average='weighted')"
   ]
  },
  {
   "cell_type": "code",
   "execution_count": null,
   "id": "7cb26d97-3cda-4f39-b4f8-1c2b0d7a0dba",
   "metadata": {},
   "outputs": [],
   "source": []
  },
  {
   "cell_type": "code",
   "execution_count": null,
   "id": "4d060947-a466-4ea3-973f-1b3fce3aefea",
   "metadata": {},
   "outputs": [],
   "source": []
  },
  {
   "cell_type": "code",
   "execution_count": null,
   "id": "68da2a81-7f3d-44cf-a181-91eb1817ee60",
   "metadata": {},
   "outputs": [],
   "source": []
  }
 ],
 "metadata": {
  "kernelspec": {
   "display_name": "Python 3 (ipykernel)",
   "language": "python",
   "name": "python3"
  },
  "language_info": {
   "codemirror_mode": {
    "name": "ipython",
    "version": 3
   },
   "file_extension": ".py",
   "mimetype": "text/x-python",
   "name": "python",
   "nbconvert_exporter": "python",
   "pygments_lexer": "ipython3",
   "version": "3.8.13"
  }
 },
 "nbformat": 4,
 "nbformat_minor": 5
}
