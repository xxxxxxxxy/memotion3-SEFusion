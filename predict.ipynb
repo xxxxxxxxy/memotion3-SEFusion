{
 "cells": [
  {
   "cell_type": "code",
   "execution_count": 1,
   "id": "75fa248a-dce3-4d76-9752-fadc556fa174",
   "metadata": {
    "execution": {
     "iopub.execute_input": "2022-12-16T02:32:44.728197Z",
     "iopub.status.busy": "2022-12-16T02:32:44.727762Z",
     "iopub.status.idle": "2022-12-16T02:32:47.205420Z",
     "shell.execute_reply": "2022-12-16T02:32:47.203469Z",
     "shell.execute_reply.started": "2022-12-16T02:32:44.728113Z"
    },
    "tags": []
   },
   "outputs": [],
   "source": [
    "from keras import backend as K\n",
    "from tensorflow.keras.models import load_model\n",
    "\n",
    "# def categorical_crossentropy_with_prior(y_true, y_pred, tau=1.0):\n",
    "#     \"\"\"带先验分布的交叉熵\n",
    "#     注：y_pred不用加softmax\n",
    "#     \"\"\"\n",
    "#     prior = [0.25,0.42,0.33]  # 自己定义好prior，shape为[num_classes]\n",
    "#     log_prior = K.constant(np.log([i + 1e-8 for i in prior]))\n",
    "#     for _ in range(K.ndim(y_pred) - 1):\n",
    "#         log_prior = K.expand_dims(log_prior, 0)\n",
    "#     y_pred = y_pred + tau * log_prior\n",
    "#     return K.categorical_crossentropy(y_true, y_pred, from_logits=True)\n",
    "\n",
    "def sparse_categorical_crossentropy_with_prior(y_true, y_pred, tau=1.0):\n",
    "    \"\"\"带先验分布的稀疏交叉熵\n",
    "    注：y_pred不用加softmax\n",
    "    \"\"\"\n",
    "    prior = [0.61, 0.28, 0.09, 0.03]  # 自己定义好prior，shape为[num_classes][0.25,0.42,0.33]  [0.14,0.86] \n",
    "    log_prior = K.constant(np.log([i + 1e-8 for i in prior]))\n",
    "    for _ in range(K.ndim(y_pred) - 1):\n",
    "        log_prior = K.expand_dims(log_prior, 0)\n",
    "    y_pred = y_pred + tau * log_prior\n",
    "    return K.sparse_categorical_crossentropy(y_true, y_pred, from_logits=True)\n"
   ]
  },
  {
   "cell_type": "code",
   "execution_count": 2,
   "id": "a9860a74-cbe0-4b2e-b7cf-d4602d317be8",
   "metadata": {
    "execution": {
     "iopub.execute_input": "2022-12-16T02:32:47.207744Z",
     "iopub.status.busy": "2022-12-16T02:32:47.207330Z",
     "iopub.status.idle": "2022-12-16T02:32:47.693797Z",
     "shell.execute_reply": "2022-12-16T02:32:47.692242Z",
     "shell.execute_reply.started": "2022-12-16T02:32:47.207719Z"
    },
    "tags": []
   },
   "outputs": [],
   "source": [
    "import pandas as pd\n",
    "\n",
    "test_image_path = 'memotion3features/test_image_feature.csv'\n",
    "test_text_path = 'memotion3features/test_text_feature.csv'\n",
    "\n",
    "def load_data(text_path, image_path):\n",
    "    text_features = pd.read_csv(text_path)\n",
    "    image_features = pd.read_csv(image_path)\n",
    "    # labels_all = pd.read_csv(label_path)['b2_labels']\n",
    "    \n",
    "    # features = pd.concat([text_features,image_features],axis=1)\n",
    "#     print(features.shape)\n",
    "    \n",
    "    return [text_features, image_features]\n",
    "\n",
    "test_X = load_data(test_text_path, test_image_path)"
   ]
  },
  {
   "cell_type": "markdown",
   "id": "46963745-18d4-4657-a072-eaacaeb4c2a6",
   "metadata": {},
   "source": [
    "taska"
   ]
  },
  {
   "cell_type": "code",
   "execution_count": 3,
   "id": "725adf47-a363-4b08-a4fe-29bdda0f6467",
   "metadata": {
    "execution": {
     "iopub.execute_input": "2022-12-16T02:32:47.695217Z",
     "iopub.status.busy": "2022-12-16T02:32:47.695000Z",
     "iopub.status.idle": "2022-12-16T02:32:47.845574Z",
     "shell.execute_reply": "2022-12-16T02:32:47.844082Z",
     "shell.execute_reply.started": "2022-12-16T02:32:47.695197Z"
    },
    "tags": []
   },
   "outputs": [
    {
     "name": "stderr",
     "output_type": "stream",
     "text": [
      "2022-12-16 02:32:47.719788: W tensorflow/stream_executor/platform/default/dso_loader.cc:64] Could not load dynamic library 'libcuda.so.1'; dlerror: libcuda.so.1: cannot open shared object file: No such file or directory; LD_LIBRARY_PATH: /usr/local/nvidia/lib:/usr/local/nvidia/lib64\n",
      "2022-12-16 02:32:47.719822: W tensorflow/stream_executor/cuda/cuda_driver.cc:269] failed call to cuInit: UNKNOWN ERROR (303)\n",
      "2022-12-16 02:32:47.719852: I tensorflow/stream_executor/cuda/cuda_diagnostics.cc:163] no NVIDIA GPU device is present: /dev/nvidia0 does not exist\n",
      "2022-12-16 02:32:47.720097: I tensorflow/core/platform/cpu_feature_guard.cc:151] This TensorFlow binary is optimized with oneAPI Deep Neural Network Library (oneDNN) to use the following CPU instructions in performance-critical operations:  AVX2 AVX512F FMA\n",
      "To enable them in other operations, rebuild TensorFlow with the appropriate compiler flags.\n"
     ]
    }
   ],
   "source": [
    "model_taska = load_model('bestmodel/taska_val_0.3643.h5',custom_objects={'sparse_categorical_crossentropy_with_prior': sparse_categorical_crossentropy_with_prior})"
   ]
  },
  {
   "cell_type": "code",
   "execution_count": 4,
   "id": "22adf5d8-3507-4d7b-b747-fe7174c856d0",
   "metadata": {
    "execution": {
     "iopub.execute_input": "2022-12-16T02:32:47.847996Z",
     "iopub.status.busy": "2022-12-16T02:32:47.847728Z",
     "iopub.status.idle": "2022-12-16T02:32:48.496703Z",
     "shell.execute_reply": "2022-12-16T02:32:48.494168Z",
     "shell.execute_reply.started": "2022-12-16T02:32:47.847973Z"
    },
    "tags": []
   },
   "outputs": [],
   "source": [
    "taska = model_taska.predict(test_X).argmax(axis=-1)"
   ]
  },
  {
   "cell_type": "markdown",
   "id": "aec7023b-bd9f-4783-8c36-941be8e06cea",
   "metadata": {},
   "source": [
    "taskb1"
   ]
  },
  {
   "cell_type": "code",
   "execution_count": 5,
   "id": "a0f658e2-2ed8-45ea-bdb0-e2f32a667cc0",
   "metadata": {
    "execution": {
     "iopub.execute_input": "2022-12-16T02:32:48.500182Z",
     "iopub.status.busy": "2022-12-16T02:32:48.499551Z",
     "iopub.status.idle": "2022-12-16T02:32:48.816126Z",
     "shell.execute_reply": "2022-12-16T02:32:48.814631Z",
     "shell.execute_reply.started": "2022-12-16T02:32:48.500125Z"
    },
    "tags": []
   },
   "outputs": [],
   "source": [
    "model_taskb1 = load_model('bestmodel/taskB1_0.8448.h5',custom_objects={'sparse_categorical_crossentropy_with_prior': sparse_categorical_crossentropy_with_prior})"
   ]
  },
  {
   "cell_type": "code",
   "execution_count": 6,
   "id": "cb9eb33f-89f9-4b2a-9e8d-8a5dc346f07c",
   "metadata": {
    "execution": {
     "iopub.execute_input": "2022-12-16T02:32:48.817461Z",
     "iopub.status.busy": "2022-12-16T02:32:48.817227Z",
     "iopub.status.idle": "2022-12-16T02:32:49.199919Z",
     "shell.execute_reply": "2022-12-16T02:32:49.197951Z",
     "shell.execute_reply.started": "2022-12-16T02:32:48.817441Z"
    },
    "tags": []
   },
   "outputs": [],
   "source": [
    "taskb1 = model_taskb1.predict(test_X).argmax(axis=-1)"
   ]
  },
  {
   "cell_type": "markdown",
   "id": "4326f4ac-c59c-4eee-9301-df2e651d0f70",
   "metadata": {},
   "source": [
    "taskb2"
   ]
  },
  {
   "cell_type": "code",
   "execution_count": 7,
   "id": "c203a780-0df3-4298-997b-4a4d95eafff7",
   "metadata": {
    "execution": {
     "iopub.execute_input": "2022-12-16T02:32:49.203020Z",
     "iopub.status.busy": "2022-12-16T02:32:49.202383Z",
     "iopub.status.idle": "2022-12-16T02:32:49.428713Z",
     "shell.execute_reply": "2022-12-16T02:32:49.427211Z",
     "shell.execute_reply.started": "2022-12-16T02:32:49.202966Z"
    },
    "tags": []
   },
   "outputs": [],
   "source": [
    "model_taskb2 = load_model('bestmodel/taskB2_0.8283.h5',custom_objects={'sparse_categorical_crossentropy_with_prior': sparse_categorical_crossentropy_with_prior})"
   ]
  },
  {
   "cell_type": "code",
   "execution_count": 8,
   "id": "7219bf75-f939-49d7-ae12-f984c87811c4",
   "metadata": {
    "execution": {
     "iopub.execute_input": "2022-12-16T02:32:49.430167Z",
     "iopub.status.busy": "2022-12-16T02:32:49.429944Z",
     "iopub.status.idle": "2022-12-16T02:32:49.802593Z",
     "shell.execute_reply": "2022-12-16T02:32:49.800508Z",
     "shell.execute_reply.started": "2022-12-16T02:32:49.430148Z"
    },
    "tags": []
   },
   "outputs": [],
   "source": [
    "taskb2 = model_taskb2.predict(test_X).argmax(axis=-1)"
   ]
  },
  {
   "cell_type": "markdown",
   "id": "74b80c99-c93d-448b-b6bb-c36070235d43",
   "metadata": {},
   "source": [
    "taskb3"
   ]
  },
  {
   "cell_type": "code",
   "execution_count": 9,
   "id": "68be09b6-5609-4a31-b08c-11db314bb50f",
   "metadata": {
    "execution": {
     "iopub.execute_input": "2022-12-16T02:32:49.809010Z",
     "iopub.status.busy": "2022-12-16T02:32:49.807670Z",
     "iopub.status.idle": "2022-12-16T02:32:49.999082Z",
     "shell.execute_reply": "2022-12-16T02:32:49.997284Z",
     "shell.execute_reply.started": "2022-12-16T02:32:49.808931Z"
    },
    "tags": []
   },
   "outputs": [],
   "source": [
    "model_taskb3 = load_model('bestmodel/taskB3_0.5241.h5',custom_objects={'sparse_categorical_crossentropy_with_prior': sparse_categorical_crossentropy_with_prior})"
   ]
  },
  {
   "cell_type": "code",
   "execution_count": 10,
   "id": "942c6c1c-892c-4fbd-822a-641052543e8c",
   "metadata": {
    "execution": {
     "iopub.execute_input": "2022-12-16T02:32:50.000330Z",
     "iopub.status.busy": "2022-12-16T02:32:50.000120Z",
     "iopub.status.idle": "2022-12-16T02:32:50.301606Z",
     "shell.execute_reply": "2022-12-16T02:32:50.300051Z",
     "shell.execute_reply.started": "2022-12-16T02:32:50.000311Z"
    },
    "tags": []
   },
   "outputs": [],
   "source": [
    "taskb3 = model_taskb3.predict(test_X).argmax(axis=-1)"
   ]
  },
  {
   "cell_type": "markdown",
   "id": "75e84009-3bf0-493e-925a-6ce08577e6f8",
   "metadata": {},
   "source": [
    "taskb4"
   ]
  },
  {
   "cell_type": "code",
   "execution_count": 11,
   "id": "fe9764a4-e64f-4c72-991a-14411b1914e2",
   "metadata": {
    "execution": {
     "iopub.execute_input": "2022-12-16T02:32:50.303203Z",
     "iopub.status.busy": "2022-12-16T02:32:50.302952Z",
     "iopub.status.idle": "2022-12-16T02:32:50.544853Z",
     "shell.execute_reply": "2022-12-16T02:32:50.543322Z",
     "shell.execute_reply.started": "2022-12-16T02:32:50.303181Z"
    },
    "tags": []
   },
   "outputs": [],
   "source": [
    "# model_taskb4 = load_model('taskB3_0.5241.h5',custom_objects={'sparse_categorical_crossentropy_with_prior': sparse_categorical_crossentropy_with_prior})\n",
    "model_taskb4 = load_model('bestmodel/taskB4_0.9569.h5',custom_objects={'sparse_categorical_crossentropy_with_prior': sparse_categorical_crossentropy_with_prior})"
   ]
  },
  {
   "cell_type": "code",
   "execution_count": 12,
   "id": "8bf7553b-fd49-4255-8768-43d6c03dba29",
   "metadata": {
    "execution": {
     "iopub.execute_input": "2022-12-16T02:32:50.546244Z",
     "iopub.status.busy": "2022-12-16T02:32:50.546006Z",
     "iopub.status.idle": "2022-12-16T02:32:51.000282Z",
     "shell.execute_reply": "2022-12-16T02:32:50.997491Z",
     "shell.execute_reply.started": "2022-12-16T02:32:50.546221Z"
    },
    "tags": []
   },
   "outputs": [],
   "source": [
    "taskb4 = model_taskb4.predict(test_X).argmax(axis=-1)"
   ]
  },
  {
   "cell_type": "markdown",
   "id": "eba5b532-3160-47e6-a6d9-804cdb87ea06",
   "metadata": {},
   "source": [
    "taskc1"
   ]
  },
  {
   "cell_type": "code",
   "execution_count": 13,
   "id": "7891c468-b428-48d9-a465-a200df2bc6ec",
   "metadata": {
    "execution": {
     "iopub.execute_input": "2022-12-16T02:32:51.005424Z",
     "iopub.status.busy": "2022-12-16T02:32:51.004791Z",
     "iopub.status.idle": "2022-12-16T02:32:51.173712Z",
     "shell.execute_reply": "2022-12-16T02:32:51.172289Z",
     "shell.execute_reply.started": "2022-12-16T02:32:51.005369Z"
    },
    "tags": []
   },
   "outputs": [],
   "source": [
    "model_taskc1 = load_model('bestmodel/taskC1_0.4765.h5',custom_objects={'sparse_categorical_crossentropy_with_prior': sparse_categorical_crossentropy_with_prior})"
   ]
  },
  {
   "cell_type": "code",
   "execution_count": 14,
   "id": "8cf9895c-c291-47f4-b205-e25d7d8ba370",
   "metadata": {
    "execution": {
     "iopub.execute_input": "2022-12-16T02:32:51.175131Z",
     "iopub.status.busy": "2022-12-16T02:32:51.174919Z",
     "iopub.status.idle": "2022-12-16T02:32:51.502762Z",
     "shell.execute_reply": "2022-12-16T02:32:51.500511Z",
     "shell.execute_reply.started": "2022-12-16T02:32:51.175111Z"
    },
    "tags": []
   },
   "outputs": [],
   "source": [
    "taskc1 = model_taskc1.predict(test_X).argmax(axis=-1)"
   ]
  },
  {
   "cell_type": "markdown",
   "id": "20647ab4-57ed-4e10-a94b-388b65e1892a",
   "metadata": {},
   "source": [
    "taskc2"
   ]
  },
  {
   "cell_type": "code",
   "execution_count": 15,
   "id": "6b730c5f-6899-407e-b481-2f2a1542e2ea",
   "metadata": {
    "execution": {
     "iopub.execute_input": "2022-12-16T02:32:51.506721Z",
     "iopub.status.busy": "2022-12-16T02:32:51.506187Z",
     "iopub.status.idle": "2022-12-16T02:32:51.681682Z",
     "shell.execute_reply": "2022-12-16T02:32:51.680034Z",
     "shell.execute_reply.started": "2022-12-16T02:32:51.506673Z"
    },
    "tags": []
   },
   "outputs": [],
   "source": [
    "model_taskc2 = load_model('bestmodel/taskC2_0.4700.h5',custom_objects={'sparse_categorical_crossentropy_with_prior': sparse_categorical_crossentropy_with_prior})"
   ]
  },
  {
   "cell_type": "code",
   "execution_count": 16,
   "id": "830e0b2b-fbd9-46a7-98c3-790eb1a63c7e",
   "metadata": {
    "execution": {
     "iopub.execute_input": "2022-12-16T02:32:51.740207Z",
     "iopub.status.busy": "2022-12-16T02:32:51.739958Z",
     "iopub.status.idle": "2022-12-16T02:32:52.100450Z",
     "shell.execute_reply": "2022-12-16T02:32:52.098049Z",
     "shell.execute_reply.started": "2022-12-16T02:32:51.740185Z"
    },
    "tags": []
   },
   "outputs": [],
   "source": [
    "taskc2 = model_taskc2.predict(test_X).argmax(axis=-1)"
   ]
  },
  {
   "cell_type": "markdown",
   "id": "814e0457-78f5-420a-be87-da5cc36a47e2",
   "metadata": {},
   "source": [
    "taskc3"
   ]
  },
  {
   "cell_type": "code",
   "execution_count": 17,
   "id": "e5cec0e2-30dc-47e9-b91a-065ae663a92b",
   "metadata": {
    "execution": {
     "iopub.execute_input": "2022-12-16T02:32:53.008224Z",
     "iopub.status.busy": "2022-12-16T02:32:53.007430Z",
     "iopub.status.idle": "2022-12-16T02:32:53.200465Z",
     "shell.execute_reply": "2022-12-16T02:32:53.198378Z",
     "shell.execute_reply.started": "2022-12-16T02:32:53.008161Z"
    },
    "tags": []
   },
   "outputs": [],
   "source": [
    "model_taskc3 = load_model('bestmodel/taskC3_0.4625.h5',custom_objects={'sparse_categorical_crossentropy_with_prior': sparse_categorical_crossentropy_with_prior})"
   ]
  },
  {
   "cell_type": "code",
   "execution_count": 18,
   "id": "08fee16f-b48c-4436-b396-105c978532bd",
   "metadata": {
    "execution": {
     "iopub.execute_input": "2022-12-16T02:32:54.332109Z",
     "iopub.status.busy": "2022-12-16T02:32:54.331695Z",
     "iopub.status.idle": "2022-12-16T02:32:54.704566Z",
     "shell.execute_reply": "2022-12-16T02:32:54.702244Z",
     "shell.execute_reply.started": "2022-12-16T02:32:54.332080Z"
    },
    "tags": []
   },
   "outputs": [],
   "source": [
    "taskc3 = model_taskc3.predict(test_X).argmax(axis=-1)"
   ]
  },
  {
   "cell_type": "code",
   "execution_count": null,
   "id": "6bad2131-e622-4959-a956-2ec239c058b1",
   "metadata": {},
   "outputs": [],
   "source": []
  },
  {
   "cell_type": "code",
   "execution_count": null,
   "id": "dacc2bdd-d0cf-4842-a955-254a3b0e443d",
   "metadata": {},
   "outputs": [],
   "source": []
  },
  {
   "cell_type": "markdown",
   "id": "1db12914-48fe-4ff2-b1e3-dd6048a872d8",
   "metadata": {},
   "source": [
    "合并"
   ]
  },
  {
   "cell_type": "code",
   "execution_count": 19,
   "id": "db382091-8e9b-4a43-9f45-c8b40be98b40",
   "metadata": {
    "execution": {
     "iopub.execute_input": "2022-12-16T02:33:05.455221Z",
     "iopub.status.busy": "2022-12-16T02:33:05.454385Z",
     "iopub.status.idle": "2022-12-16T02:33:05.512603Z",
     "shell.execute_reply": "2022-12-16T02:33:05.510457Z",
     "shell.execute_reply.started": "2022-12-16T02:33:05.455155Z"
    },
    "tags": []
   },
   "outputs": [],
   "source": [
    "with open(\"answer.txt\", \"w\") as f:\n",
    "    for i in range(1500):\n",
    "        a, b, c = 0, [], []\n",
    "        a = str(taska[i])\n",
    "    \n",
    "        b.append(str(taskb1[i]))\n",
    "        b.append(str(taskb2[i]))\n",
    "        b.append(str(taskb3[i]))\n",
    "        b.append(str(taskb4[i]))\n",
    "        b = \"\".join(b)\n",
    "    \n",
    "        c.append(str(taskc1[i]))\n",
    "        c.append(str(taskc2[i]))\n",
    "        c.append(str(taskc3[i]))\n",
    "        c.append(str(taskb4[i]))\n",
    "        c = \"\".join(c)\n",
    "    \n",
    "        f.write(a + \"_\" + b + \"_\" + c + \"\\n\")"
   ]
  },
  {
   "cell_type": "code",
   "execution_count": 20,
   "id": "0d032df0-b66a-4147-b19f-1e25d00692f9",
   "metadata": {
    "execution": {
     "iopub.execute_input": "2022-12-16T02:33:05.779554Z",
     "iopub.status.busy": "2022-12-16T02:33:05.778883Z",
     "iopub.status.idle": "2022-12-16T02:33:05.831232Z",
     "shell.execute_reply": "2022-12-16T02:33:05.828728Z",
     "shell.execute_reply.started": "2022-12-16T02:33:05.779497Z"
    },
    "tags": []
   },
   "outputs": [],
   "source": [
    "#输出csv文件\n",
    "# with open(\"val.csv\", \"w\") as f:\n",
    "a, b1, b2, b3, b4, c1, c2, c3, c4 = [], [], [], [], [], [], [], [], []\n",
    "for i in range(1500):\n",
    "    \n",
    "    if taska[i] == 0:\n",
    "        a.append('negative')\n",
    "    elif taska[i] == 1:\n",
    "        a.append('neutral')\n",
    "    elif taska[i] == 2:\n",
    "        a.append('positive')          \n",
    "    \n",
    "    if taskc1[i]==0:\n",
    "        c1.append('not_funny')\n",
    "    elif taskc1[i]==1:\n",
    "        c1.append('funny')\n",
    "    elif taskc1[i]==2:\n",
    "        c1.append('very_funny')\n",
    "    elif taskc1[i]==3:\n",
    "        c1.append('hilarious')\n",
    "            \n",
    "    if taskc2[i]==0:\n",
    "        c2.append('not_sarcastic')\n",
    "    elif taskc2[i]==1:\n",
    "        c2.append('general')\n",
    "    elif taskc2[i]==2:\n",
    "        c2.append('twisted_meaning')\n",
    "    elif taskc2[i]==3:\n",
    "        c2.append('very_twisted')   \n",
    "            \n",
    "    if taskc3[i]==0:\n",
    "        c3.append('not_offensive')\n",
    "    elif taskc3[i]==1:\n",
    "        c3.append('slight')\n",
    "    elif taskc3[i]==2:\n",
    "        c3.append('very_offensive')\n",
    "    elif taskc3[i]==3:\n",
    "        c3.append('hateful_offensive')\n",
    "            \n",
    "    if taskb4[i]==0:\n",
    "        c4.append('not_motivational')\n",
    "    elif taskb4[i]==1:\n",
    "        c4.append('motivational')  \n",
    "\n",
    "all_df = pd.DataFrame({'overall_sentiment':a, 'humour':c1, 'sarcastic':c2, 'offensive':c3, 'motivational':c4})\n",
    "all_df.to_csv('val.csv',index=None)\n",
    "        # f.write(all_df)"
   ]
  },
  {
   "cell_type": "code",
   "execution_count": 21,
   "id": "f918c588-d86a-4811-8aa5-f3ad5c0c6ffd",
   "metadata": {
    "execution": {
     "iopub.execute_input": "2022-12-16T02:33:06.610274Z",
     "iopub.status.busy": "2022-12-16T02:33:06.609582Z",
     "iopub.status.idle": "2022-12-16T02:33:06.659013Z",
     "shell.execute_reply": "2022-12-16T02:33:06.656979Z",
     "shell.execute_reply.started": "2022-12-16T02:33:06.610213Z"
    },
    "tags": []
   },
   "outputs": [],
   "source": [
    "#输出csv文件\n",
    "# with open(\"val.csv\", \"w\") as f:\n",
    "a, b1, b2, b3, b4, c1, c2, c3, c4 = [], [], [], [], [], [], [], [], []\n",
    "for i in range(1500):\n",
    "    \n",
    "    if taska[i] == 0:\n",
    "        a.append('negative')\n",
    "    elif taska[i] == 1:\n",
    "        a.append('neutral')\n",
    "    elif taska[i] == 2:\n",
    "        a.append('positive')          \n",
    "    \n",
    "    if taskc1[i]==0 and taskb1[i]==0:\n",
    "        c1.append('not_funny')\n",
    "    elif taskc1[i]==1 and taskb1[i]==1:\n",
    "        c1.append('funny')\n",
    "    elif taskc1[i]==2 and taskb1[i]==1:\n",
    "        c1.append('very_funny')\n",
    "    elif taskc1[i]==3 and taskb1[i]==1:\n",
    "        c1.append('hilarious')\n",
    "    else:\n",
    "        c1.append('funny')\n",
    "            \n",
    "    if taskc2[i]==0:\n",
    "        c2.append('not_sarcastic')\n",
    "    elif taskc2[i]==1:\n",
    "        c2.append('general')\n",
    "    elif taskc2[i]==2:\n",
    "        c2.append('twisted_meaning')\n",
    "    elif taskc2[i]==3:\n",
    "        c2.append('very_twisted')   \n",
    "\n",
    "            \n",
    "    if taskc3[i]==0:\n",
    "        c3.append('not_offensive')\n",
    "    elif taskc3[i]==1:\n",
    "        c3.append('slight')\n",
    "    elif taskc3[i]==2:\n",
    "        c3.append('very_offensive')\n",
    "    elif taskc3[i]==3:\n",
    "        c3.append('hateful_offensive')\n",
    "            \n",
    "    if taskb4[i]==0:\n",
    "        c4.append('not_motivational')\n",
    "    elif taskb4[i]==1:\n",
    "        c4.append('motivational')  \n",
    "\n",
    "all_df = pd.DataFrame({'overall_sentiment':a, 'humour':c1, 'sarcastic':c2, 'offensive':c3, 'motivational':c4})\n",
    "all_df.to_csv('val.csv',index=None)"
   ]
  },
  {
   "cell_type": "code",
   "execution_count": 22,
   "id": "4f899bbd-edfd-4098-bb0d-afae62391072",
   "metadata": {
    "execution": {
     "iopub.execute_input": "2022-12-16T02:33:30.826762Z",
     "iopub.status.busy": "2022-12-16T02:33:30.825921Z",
     "iopub.status.idle": "2022-12-16T02:33:31.009073Z",
     "shell.execute_reply": "2022-12-16T02:33:31.007023Z",
     "shell.execute_reply.started": "2022-12-16T02:33:30.826694Z"
    },
    "tags": []
   },
   "outputs": [],
   "source": [
    "import pandas as pd\n",
    "\n",
    "df = pd.read_csv(\"val.csv\")\n",
    "with open(\"answer-从csv转为了核对csv是否正确.txt\", \"w\") as f:\n",
    "    for n, row in df.iterrows():\n",
    "        a, b, c = 0, [], []\n",
    "        if row[\"overall_sentiment\"] == \"neutral\":\n",
    "            a = \"1\"\n",
    "        elif row[\"overall_sentiment\"] == \"negative\" or row[\"overall_sentiment\"] == \"very_negative\":\n",
    "            a = \"0\"\n",
    "        else:\n",
    "            a = \"2\"\n",
    "\n",
    "        if row[\"humour\"] == \"not_funny\":\n",
    "            b.append(\"0\")\n",
    "        else:\n",
    "            b.append(\"1\")\n",
    "        if row[\"sarcastic\"] == \"not_sarcastic\":\n",
    "            b.append(\"0\")\n",
    "        else:\n",
    "            b.append(\"1\")\n",
    "        if row[\"offensive\"] == \"not_offensive\":\n",
    "            b.append(\"0\")\n",
    "        else:\n",
    "            b.append(\"1\")\n",
    "        if row[\"motivational\"] == \"not_motivational\":\n",
    "            b.append(\"0\")\n",
    "        else:\n",
    "            b.append(\"1\")\n",
    "        b = \"\".join(b)\n",
    "\n",
    "        if row[\"humour\"] == \"not_funny\":\n",
    "            c.append(\"0\")\n",
    "        elif row[\"humour\"] == \"funny\":\n",
    "            c.append(\"1\")\n",
    "        elif row[\"humour\"] == \"very_funny\":\n",
    "            c.append(\"2\")\n",
    "        else:\n",
    "            c.append(\"3\")\n",
    "        if row[\"sarcastic\"] == \"not_sarcastic\":\n",
    "            c.append(\"0\")\n",
    "        elif row[\"sarcastic\"] == \"general\":\n",
    "            c.append(\"1\")\n",
    "        elif row[\"sarcastic\"] == \"twisted_meaning\":\n",
    "            c.append(\"2\")\n",
    "        else:\n",
    "            c.append(\"3\")\n",
    "        if row[\"offensive\"] == \"not_offensive\":\n",
    "            c.append(\"0\")\n",
    "        elif row[\"offensive\"] == \"slight\":\n",
    "            c.append(\"1\")\n",
    "        elif row[\"offensive\"] == \"very_offensive\":\n",
    "            c.append(\"2\")\n",
    "        else:\n",
    "            c.append(\"3\")\n",
    "        if row[\"motivational\"] == \"not_motivational\":\n",
    "            c.append(\"0\")\n",
    "        else:\n",
    "            c.append(\"1\")\n",
    "        c = \"\".join(c)\n",
    "        f.write(a + \"_\" + b + \"_\" + c + \"\\n\")\n"
   ]
  },
  {
   "cell_type": "code",
   "execution_count": null,
   "id": "7c370af8-5ec8-4d8e-bcfb-e13e83125a6b",
   "metadata": {},
   "outputs": [],
   "source": []
  }
 ],
 "metadata": {
  "kernelspec": {
   "display_name": "Python 3 (ipykernel)",
   "language": "python",
   "name": "python3"
  },
  "language_info": {
   "codemirror_mode": {
    "name": "ipython",
    "version": 3
   },
   "file_extension": ".py",
   "mimetype": "text/x-python",
   "name": "python",
   "nbconvert_exporter": "python",
   "pygments_lexer": "ipython3",
   "version": "3.8.13"
  }
 },
 "nbformat": 4,
 "nbformat_minor": 5
}
