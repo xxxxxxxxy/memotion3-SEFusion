{
 "cells": [
  {
   "cell_type": "code",
   "execution_count": 1,
   "id": "2918e646-70dc-412d-9c20-2d5df6d49e48",
   "metadata": {
    "execution": {
     "iopub.execute_input": "2022-12-22T01:51:58.671611Z",
     "iopub.status.busy": "2022-12-22T01:51:58.671186Z",
     "iopub.status.idle": "2022-12-22T01:51:58.909730Z",
     "shell.execute_reply": "2022-12-22T01:51:58.909284Z",
     "shell.execute_reply.started": "2022-12-22T01:51:58.671564Z"
    },
    "tags": []
   },
   "outputs": [],
   "source": [
    "import pandas as pd\n",
    "\n",
    "df_truth = pd.read_csv('true-labels.txt',header=None)"
   ]
  },
  {
   "cell_type": "code",
   "execution_count": 2,
   "id": "3434e3a5-5407-4fe6-ad6d-e64974ab12ff",
   "metadata": {
    "execution": {
     "iopub.execute_input": "2022-12-22T01:51:58.995771Z",
     "iopub.status.busy": "2022-12-22T01:51:58.995372Z",
     "iopub.status.idle": "2022-12-22T01:51:59.002463Z",
     "shell.execute_reply": "2022-12-22T01:51:59.002062Z",
     "shell.execute_reply.started": "2022-12-22T01:51:58.995754Z"
    },
    "tags": []
   },
   "outputs": [],
   "source": [
    "def get_labels(df):\n",
    "    A,B1,B2,B3,B4,C1,C2,C3,C4 = [],[],[],[],[],[],[],[],[]\n",
    "    for labels in df[0]:\n",
    "        a,b,c = labels.split('_')\n",
    "        b1 = b[0]\n",
    "        b2 = b[1]\n",
    "        b3 = b[2]\n",
    "        b4 = b[3]\n",
    "        c1 = c[0]\n",
    "        c2 = c[1]\n",
    "        c3 = c[2]\n",
    "        c4 = c[3]\n",
    "    \n",
    "        A.append(int(a))\n",
    "        B1.append(int(b1))\n",
    "        B2.append(int(b2))\n",
    "        B3.append(int(b3))\n",
    "        B4.append(int(b4))\n",
    "        C1.append(int(c1))\n",
    "        C2.append(int(c2))\n",
    "        C3.append(int(c3))\n",
    "        C4.append(int(c4))\n",
    "        \n",
    "    return A,B1,B2,B3,B4,C1,C2,C3,C4"
   ]
  },
  {
   "cell_type": "code",
   "execution_count": 3,
   "id": "226f30bf-b888-4000-84b1-577e3a522ece",
   "metadata": {
    "execution": {
     "iopub.execute_input": "2022-12-22T01:52:00.200023Z",
     "iopub.status.busy": "2022-12-22T01:52:00.199597Z",
     "iopub.status.idle": "2022-12-22T01:52:00.206397Z",
     "shell.execute_reply": "2022-12-22T01:52:00.205995Z",
     "shell.execute_reply.started": "2022-12-22T01:52:00.200006Z"
    },
    "tags": []
   },
   "outputs": [],
   "source": [
    "A_truth,B1_truth,B2_truth,B3_truth,B4_truth,C1_truth,C2_truth,C3_truth,C4_truth = get_labels(df_truth)"
   ]
  },
  {
   "cell_type": "code",
   "execution_count": 5,
   "id": "57ab5f61-5347-4fab-9e45-78863de068ed",
   "metadata": {
    "execution": {
     "iopub.execute_input": "2022-12-22T01:52:06.566752Z",
     "iopub.status.busy": "2022-12-22T01:52:06.566322Z",
     "iopub.status.idle": "2022-12-22T01:52:06.571707Z",
     "shell.execute_reply": "2022-12-22T01:52:06.571271Z",
     "shell.execute_reply.started": "2022-12-22T01:52:06.566732Z"
    },
    "tags": []
   },
   "outputs": [
    {
     "data": {
      "text/plain": [
       "1    936\n",
       "2    403\n",
       "0    133\n",
       "3     28\n",
       "dtype: int64"
      ]
     },
     "execution_count": 5,
     "metadata": {},
     "output_type": "execute_result"
    }
   ],
   "source": [
    "pd.DataFrame(C2_truth).value_counts()"
   ]
  },
  {
   "cell_type": "code",
   "execution_count": null,
   "id": "c6710133-9e47-4bc6-ae81-ddf31dd20689",
   "metadata": {},
   "outputs": [],
   "source": []
  }
 ],
 "metadata": {
  "kernelspec": {
   "display_name": "Python 3 (ipykernel)",
   "language": "python",
   "name": "python3"
  },
  "language_info": {
   "codemirror_mode": {
    "name": "ipython",
    "version": 3
   },
   "file_extension": ".py",
   "mimetype": "text/x-python",
   "name": "python",
   "nbconvert_exporter": "python",
   "pygments_lexer": "ipython3",
   "version": "3.8.13"
  }
 },
 "nbformat": 4,
 "nbformat_minor": 5
}
